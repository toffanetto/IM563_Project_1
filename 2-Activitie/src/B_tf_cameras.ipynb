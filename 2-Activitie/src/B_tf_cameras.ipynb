{
 "cells": [
  {
   "cell_type": "markdown",
   "metadata": {},
   "source": [
    "### B)\n",
    "Seja um vetor **p1**.T = [1 2 3] (m), cujas coordenadas cartesianas são definidas no referencial de\n",
    "uma câmera. Escreva as a coordenadas desse mesmo vetor, p2 , descrito em coordenadas de uma\n",
    "segunda câmera. O referencial dessa segunda câmera possui uma rotação φ = 2º , θ = 1º e ψ = 2º ,\n",
    "e uma translação **t**.T = [1 2 15] (m) com respeito ao sistema de referências da primeira."
   ]
  },
  {
   "cell_type": "code",
   "execution_count": null,
   "metadata": {},
   "outputs": [],
   "source": [
    "# toffanetto\n",
    "\n",
    "import numpy as np\n",
    "import matplotlib.pyplot as plt\n",
    "\n"
   ]
  },
  {
   "cell_type": "code",
   "execution_count": null,
   "metadata": {},
   "outputs": [],
   "source": [
    "class tf:\n",
    "    def __init__(self, x, y, z, phi, theta, psi):\n",
    "        self.x = x\n",
    "        self.y = y\n",
    "        self.z = z \n",
    "        self.phi = np.deg2rad(phi)\n",
    "        self.theta = np.deg2rad(theta)\n",
    "        self.psi = np.deg2rad(psi)\n",
    "        \n",
    "        self.t = np.array([[x, y ,z]]).T\n",
    "        \n",
    "    def getPoint(self,p1):\n",
    "        Rx = np.array([[1, 0, 0], [0, np.cos(self.psi), np.sin(self.psi)], [0, -np.sin(self.psi), np.cos(self.psi)]])\n",
    "        Ry = np.array([[np.cos(self.theta), 0, -np.sin(self.theta)], [0, 1, 0], [np.sin(self.theta), 0, np.cos(self.theta)]])\n",
    "        Rz = np.array([[np.cos(self.phi), np.sin(self.phi), 0], [-np.sin(self.phi), np.cos(self.phi), 0], [0, 0, 1]])\n",
    "        R = np.matmul(Rz,np.matmul(Ry,Rx))\n",
    "        \n",
    "        p2 = np.matmul(R,p1) - self.t\n",
    "        return p2\n",
    "\n"
   ]
  },
  {
   "cell_type": "code",
   "execution_count": null,
   "metadata": {},
   "outputs": [],
   "source": [
    "p1 = np.array([[1, 2 ,3]]).T\n",
    "\n",
    "p1_to_p2_TF = tf(x=1, y=2, z=15, phi=2, theta=1, psi=2)\n",
    "\n",
    "p2 = p1_to_p2_TF.getPoint(p1=p1)\n",
    "print('p2 = \\n'+str(p2))"
   ]
  },
  {
   "cell_type": "markdown",
   "metadata": {},
   "source": [
    "### C)\n",
    "Calcule as coordenadas das projeções **q1** e **q2** dos vetores **p1** e **p2** do item anterior, considerando\n",
    "que as câmeras possuem distâncias focais iguais a 0.05m."
   ]
  },
  {
   "cell_type": "code",
   "execution_count": null,
   "metadata": {},
   "outputs": [],
   "source": []
  },
  {
   "cell_type": "markdown",
   "metadata": {},
   "source": [
    "### D)"
   ]
  },
  {
   "cell_type": "code",
   "execution_count": null,
   "metadata": {},
   "outputs": [],
   "source": []
  },
  {
   "cell_type": "markdown",
   "metadata": {},
   "source": [
    "### E)"
   ]
  },
  {
   "cell_type": "code",
   "execution_count": null,
   "metadata": {},
   "outputs": [],
   "source": []
  }
 ],
 "metadata": {
  "kernelspec": {
   "display_name": "Python 3",
   "language": "python",
   "name": "python3"
  },
  "language_info": {
   "codemirror_mode": {
    "name": "ipython",
    "version": 3
   },
   "file_extension": ".py",
   "mimetype": "text/x-python",
   "name": "python",
   "nbconvert_exporter": "python",
   "pygments_lexer": "ipython3",
   "version": "3.10.12"
  }
 },
 "nbformat": 4,
 "nbformat_minor": 2
}
