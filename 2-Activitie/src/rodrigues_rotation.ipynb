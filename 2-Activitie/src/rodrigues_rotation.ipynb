{
 "cells": [
  {
   "cell_type": "markdown",
   "metadata": {},
   "source": [
    "### A)\n",
    "\n",
    "Transformação de Rodrigues"
   ]
  },
  {
   "cell_type": "code",
   "execution_count": 1,
   "metadata": {},
   "outputs": [],
   "source": [
    "# @toffanetto\n",
    "\n",
    "from sympy import *\n",
    "import numpy as np\n"
   ]
  },
  {
   "cell_type": "markdown",
   "metadata": {},
   "source": [
    "Dado os ângulos de rotação nos eixos x, y e z como x, y e z, têm-se as rotações que levam do frame {2} para o frame {1}:"
   ]
  },
  {
   "cell_type": "code",
   "execution_count": 2,
   "metadata": {},
   "outputs": [
    {
     "name": "stdout",
     "output_type": "stream",
     "text": [
      "Rx = \n",
      "[[1 0 0]\n",
      " [0 cos(x) sin(x)]\n",
      " [0 -sin(x) cos(x)]]\n",
      "Ry = \n",
      "[[cos(y) 0 -sin(y)]\n",
      " [0 1 0]\n",
      " [sin(y) 0 cos(y)]]\n",
      "Rz = \n",
      "[[cos(z) sin(z) 0]\n",
      " [-sin(z) cos(z) 0]\n",
      " [0 0 1]]\n"
     ]
    }
   ],
   "source": [
    "x, y, z = symbols(\"x y z\")\n",
    "\n",
    "Rx = np.array([[1, 0, 0], [0, cos(x), sin(x)], [0, -sin(x), cos(x)]])\n",
    "print('Rx = \\n'+str(Rx))\n",
    "\n",
    "Ry = np.array([[cos(y), 0, -sin(y)], [0, 1, 0], [sin(y), 0, cos(y)]])\n",
    "print('Ry = \\n'+str(Ry))\n",
    "\n",
    "Rz = np.array([[cos(z), sin(z), 0], [-sin(z), cos(z), 0], [0, 0, 1]])\n",
    "print('Rz = \\n'+str(Rz))"
   ]
  },
  {
   "cell_type": "code",
   "execution_count": 3,
   "metadata": {},
   "outputs": [
    {
     "name": "stdout",
     "output_type": "stream",
     "text": [
      "R_(1/2) = \n",
      "[[cos(y)*cos(z) sin(x)*sin(y)*cos(z) + sin(z)*cos(x)\n",
      "  sin(x)*sin(z) - sin(y)*cos(x)*cos(z)]\n",
      " [-sin(z)*cos(y) -sin(x)*sin(y)*sin(z) + cos(x)*cos(z)\n",
      "  sin(x)*cos(z) + sin(y)*sin(z)*cos(x)]\n",
      " [sin(y) -sin(x)*cos(y) cos(x)*cos(y)]]\n"
     ]
    }
   ],
   "source": [
    "R_1_2 = np.matmul(Rz,np.matmul(Ry,Rx))\n",
    "print('R_(1/2) = \\n'+str(R_1_2))"
   ]
  },
  {
   "cell_type": "markdown",
   "metadata": {},
   "source": [
    "Dado os ângulos de rotação nos eixos x, y e z como x, y e z, têm-se as rotações que levam do frame {1} para o frame {2}:"
   ]
  },
  {
   "cell_type": "code",
   "execution_count": 4,
   "metadata": {},
   "outputs": [
    {
     "name": "stdout",
     "output_type": "stream",
     "text": [
      "R_(2/1) = \n",
      "[[cos(y)*cos(z) sin(x)*sin(y)*cos(z) - sin(z)*cos(x)\n",
      "  sin(x)*sin(z) + sin(y)*cos(x)*cos(z)]\n",
      " [sin(z)*cos(y) sin(x)*sin(y)*sin(z) + cos(x)*cos(z)\n",
      "  -sin(x)*cos(z) + sin(y)*sin(z)*cos(x)]\n",
      " [-sin(y) sin(x)*cos(y) cos(x)*cos(y)]]\n"
     ]
    }
   ],
   "source": [
    "Rx = Rx.T\n",
    "Ry = Ry.T\n",
    "Rz = Rz.T\n",
    "\n",
    "R_2_1 = np.matmul(Rz,np.matmul(Ry,Rx))\n",
    "print('R_(2/1) = \\n'+str(R_2_1))"
   ]
  },
  {
   "cell_type": "code",
   "execution_count": 5,
   "metadata": {},
   "outputs": [
    {
     "name": "stdout",
     "output_type": "stream",
     "text": [
      "R = \n",
      "[[-c*(-k2**2 - k3**2) - k2**2 - k3**2 + 1.0 -c*k1*k2 + k1*k2 - k3*s\n",
      "  -c*k1*k3 + k1*k3 + k2*s]\n",
      " [-c*k1*k2 + k1*k2 + k3*s -c*(-k1**2 - k3**2) - k1**2 - k3**2 + 1.0\n",
      "  -c*k2*k3 - k1*s + k2*k3]\n",
      " [-c*k1*k3 + k1*k3 - k2*s -c*k2*k3 + k1*s + k2*k3\n",
      "  -c*(-k1**2 - k2**2) - k1**2 - k2**2 + 1.0]]\n",
      "Rx = \n",
      "[[1.00000000000000 0 0]\n",
      " [0 c -s]\n",
      " [0 s c]]\n",
      "Ry = \n",
      "[[c 0 s]\n",
      " [0 1.00000000000000 0]\n",
      " [-s 0 c]]\n",
      "Rx = \n",
      "[[c -s 0]\n",
      " [s c 0]\n",
      " [0 0 1.00000000000000]]\n",
      "\n"
     ]
    }
   ],
   "source": [
    "k1, k2, k3, s, c = symbols(\"k1 k2 k3 s c\")\n",
    "\n",
    "K = np.array([[0, -k3, k2],[k3, 0, -k1], [-k2, k1, 0]])\n",
    "\n",
    "R = np.eye(3)+ s*K + np.matmul(K,K) - c*np.matmul(K,K)\n",
    "print('R = \\n'+str(R))\n",
    "\n",
    "k1, k2, k3 = 1, 0, 0\n",
    "\n",
    "K = np.array([[0, -k3, k2],[k3, 0, -k1], [-k2, k1, 0]])\n",
    "\n",
    "Rx = np.eye(3)+ s*K + np.matmul(K,K) - c*np.matmul(K,K)\n",
    "print('Rx = \\n'+str(Rx))\n",
    "\n",
    "k1, k2, k3 = 0, 1, 0\n",
    "\n",
    "K = np.array([[0, -k3, k2],[k3, 0, -k1], [-k2, k1, 0]])\n",
    "\n",
    "Ry = np.eye(3)+ s*K + np.matmul(K,K) - c*np.matmul(K,K)\n",
    "\n",
    "print('Ry = \\n'+str(Ry))\n",
    "\n",
    "k1, k2, k3 = 0, 0, 1\n",
    "\n",
    "K = np.array([[0, -k3, k2],[k3, 0, -k1], [-k2, k1, 0]])\n",
    "\n",
    "Rz = np.eye(3)+ s*K + np.matmul(K,K) - c*np.matmul(K,K)\n",
    "print('Rx = \\n'+str(Rz)+'\\n')"
   ]
  },
  {
   "cell_type": "code",
   "execution_count": 6,
   "metadata": {},
   "outputs": [
    {
     "name": "stdout",
     "output_type": "stream",
     "text": [
      "| [ -c*(-k2**2 - k3**2) - k2**2 - k3**2 + 1.0 ] [ -c*k1*k2 + k1*k2 - k3*s ] [ -c*k1*k3 + k1*k3 + k2*s ] |\n",
      "| [ -c*k1*k2 + k1*k2 + k3*s ] [ -c*(-k1**2 - k3**2) - k1**2 - k3**2 + 1.0 ] [ -c*k2*k3 - k1*s + k2*k3 ] |\n",
      "| [ -c*k1*k3 + k1*k3 - k2*s ] [ -c*k2*k3 + k1*s + k2*k3 ] [ -c*(-k1**2 - k2**2) - k1**2 - k2**2 + 1.0 ] |\n",
      "\n"
     ]
    }
   ],
   "source": [
    "out = ''\n",
    "for i in range(R.shape[0]):\n",
    "    out += '| '\n",
    "    for j in range(R.shape[1]):\n",
    "        out += '[ '+str(R[i, j])+' ] '\n",
    "    out += '|\\n'\n",
    "    \n",
    "print(out)\n",
    "        \n",
    "        "
   ]
  }
 ],
 "metadata": {
  "kernelspec": {
   "display_name": "Python 3",
   "language": "python",
   "name": "python3"
  },
  "language_info": {
   "codemirror_mode": {
    "name": "ipython",
    "version": 3
   },
   "file_extension": ".py",
   "mimetype": "text/x-python",
   "name": "python",
   "nbconvert_exporter": "python",
   "pygments_lexer": "ipython3",
   "version": "3.10.12"
  }
 },
 "nbformat": 4,
 "nbformat_minor": 2
}
