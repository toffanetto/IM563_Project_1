{
 "cells": [
  {
   "cell_type": "code",
   "execution_count": 68,
   "metadata": {},
   "outputs": [],
   "source": [
    "# @toffanetto\n",
    "\n",
    "from sympy import *\n",
    "import numpy as np\n"
   ]
  },
  {
   "cell_type": "markdown",
   "metadata": {},
   "source": [
    "Dado os ângulos de rotação nos eixos x, y e z como x, y e z, têm-se as rotações que levam do frame {2} para o frame {1}:"
   ]
  },
  {
   "cell_type": "code",
   "execution_count": 69,
   "metadata": {},
   "outputs": [
    {
     "name": "stdout",
     "output_type": "stream",
     "text": [
      "Rx = \n",
      "[[1 0 0]\n",
      " [0 cos(x) sin(x)]\n",
      " [0 -sin(x) cos(x)]]\n",
      "Ry = \n",
      "[[cos(y) 0 -sin(y)]\n",
      " [0 1 0]\n",
      " [sin(y) 0 cos(y)]]\n",
      "Rz = \n",
      "[[cos(z) sin(z) 0]\n",
      " [-sin(z) cos(z) 0]\n",
      " [0 0 1]]\n"
     ]
    }
   ],
   "source": [
    "x, y, z = symbols(\"x y z\")\n",
    "\n",
    "Rx = np.array([[1, 0, 0], [0, cos(x), sin(x)], [0, -sin(x), cos(x)]])\n",
    "print('Rx = \\n'+str(Rx))\n",
    "\n",
    "Ry = np.array([[cos(y), 0, -sin(y)], [0, 1, 0], [sin(y), 0, cos(y)]])\n",
    "print('Ry = \\n'+str(Ry))\n",
    "\n",
    "Rz = np.array([[cos(z), sin(z), 0], [-sin(z), cos(z), 0], [0, 0, 1]])\n",
    "print('Rz = \\n'+str(Rz))"
   ]
  },
  {
   "cell_type": "code",
   "execution_count": 70,
   "metadata": {},
   "outputs": [
    {
     "name": "stdout",
     "output_type": "stream",
     "text": [
      "R_(1/2) = \n",
      "[[cos(y)*cos(z) sin(x)*sin(y)*cos(z) - sin(z)*cos(x)\n",
      "  sin(x)*sin(z) + sin(y)*cos(x)*cos(z)]\n",
      " [sin(z)*cos(y) sin(x)*sin(y)*sin(z) + cos(x)*cos(z)\n",
      "  -sin(x)*cos(z) + sin(y)*sin(z)*cos(x)]\n",
      " [-sin(y) sin(x)*cos(y) cos(x)*cos(y)]]\n"
     ]
    }
   ],
   "source": [
    "R_1_2 = np.matmul(Rz,np.matmul(Ry,Rx))\n",
    "print('R_(1/2) = \\n'+str(R))"
   ]
  },
  {
   "cell_type": "markdown",
   "metadata": {},
   "source": [
    "Dado os ângulos de rotação nos eixos x, y e z como x, y e z, têm-se as rotações que levam do frame {1} para o frame {2}:"
   ]
  },
  {
   "cell_type": "code",
   "execution_count": 71,
   "metadata": {},
   "outputs": [
    {
     "name": "stdout",
     "output_type": "stream",
     "text": [
      "R_(2/1) = \n",
      "[[cos(y)*cos(z) sin(x)*sin(y)*cos(z) - sin(z)*cos(x)\n",
      "  sin(x)*sin(z) + sin(y)*cos(x)*cos(z)]\n",
      " [sin(z)*cos(y) sin(x)*sin(y)*sin(z) + cos(x)*cos(z)\n",
      "  -sin(x)*cos(z) + sin(y)*sin(z)*cos(x)]\n",
      " [-sin(y) sin(x)*cos(y) cos(x)*cos(y)]]\n"
     ]
    }
   ],
   "source": [
    "Rx = Rx.T\n",
    "Ry = Ry.T\n",
    "Rz = Rz.T\n",
    "\n",
    "R_2_1 = np.matmul(Rz,np.matmul(Ry,Rx))\n",
    "print('R_(2/1) = \\n'+str(R))"
   ]
  }
 ],
 "metadata": {
  "kernelspec": {
   "display_name": "Python 3",
   "language": "python",
   "name": "python3"
  },
  "language_info": {
   "codemirror_mode": {
    "name": "ipython",
    "version": 3
   },
   "file_extension": ".py",
   "mimetype": "text/x-python",
   "name": "python",
   "nbconvert_exporter": "python",
   "pygments_lexer": "ipython3",
   "version": "3.10.12"
  }
 },
 "nbformat": 4,
 "nbformat_minor": 2
}
