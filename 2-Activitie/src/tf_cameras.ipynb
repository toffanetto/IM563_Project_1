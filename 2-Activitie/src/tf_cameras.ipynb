{
 "cells": [
  {
   "cell_type": "markdown",
   "metadata": {},
   "source": [
    "### B)"
   ]
  },
  {
   "cell_type": "code",
   "execution_count": 1,
   "metadata": {},
   "outputs": [],
   "source": [
    "# toffanetto\n",
    "\n",
    "import numpy as np"
   ]
  },
  {
   "cell_type": "code",
   "execution_count": 2,
   "metadata": {},
   "outputs": [],
   "source": [
    "class tf:\n",
    "    def __init__(self, x, y, z, phi, theta, psi):\n",
    "        self.x = x\n",
    "        self.y = y\n",
    "        self.z = z \n",
    "        self.phi = np.deg2rad(phi)\n",
    "        self.theta = np.deg2rad(theta)\n",
    "        self.psi = np.deg2rad(psi)\n",
    "        \n",
    "        self.t = np.array([[x, y ,z]]).T\n",
    "        \n",
    "    def getPoint(self,p1):\n",
    "        Rx = np.array([[1, 0, 0], [0, np.cos(self.psi), np.sin(self.psi)], [0, -np.sin(self.psi), np.cos(self.psi)]])\n",
    "        Ry = np.array([[np.cos(self.theta), 0, -np.sin(self.theta)], [0, 1, 0], [np.sin(self.theta), 0, np.cos(self.theta)]])\n",
    "        Rz = np.array([[np.cos(self.phi), np.sin(self.phi), 0], [-np.sin(self.phi), np.cos(self.phi), 0], [0, 0, 1]])\n",
    "        R = np.matmul(Rz,np.matmul(Ry,Rx))\n",
    "        \n",
    "        p2 = np.matmul(R,p1) + self.t\n",
    "        return p2"
   ]
  },
  {
   "cell_type": "code",
   "execution_count": 3,
   "metadata": {},
   "outputs": [
    {
     "name": "stdout",
     "output_type": "stream",
     "text": [
      "p2 = \n",
      "[[-0.44677296]\n",
      " [ 1.03357395]\n",
      " [29.67803096]]\n"
     ]
    }
   ],
   "source": [
    "p1 = np.array([[0.03, -0.01, 30]]).T\n",
    "\n",
    "p1_to_p2_TF = tf(x=0.01, y=-0.02, z=-0.3, phi=2, theta=1, psi=2)\n",
    "\n",
    "p2 = p1_to_p2_TF.getPoint(p1=p1)\n",
    "print('p2 = \\n'+str(p2))"
   ]
  },
  {
   "cell_type": "markdown",
   "metadata": {},
   "source": [
    "---\n",
    "### C)"
   ]
  },
  {
   "cell_type": "code",
   "execution_count": 4,
   "metadata": {},
   "outputs": [
    {
     "name": "stdout",
     "output_type": "stream",
     "text": [
      "q1 = \n",
      "[[ 1.00000000e-05]\n",
      " [-3.33333333e-06]\n",
      " [ 1.00000000e-02]]\n",
      "q2 = \n",
      "[[-0.00015054]\n",
      " [ 0.00034826]\n",
      " [ 0.01      ]]\n"
     ]
    }
   ],
   "source": [
    "f = 0.01\n",
    "\n",
    "q1x = p1[0][0]*(f/p1[2][0])\n",
    "q1y = p1[1][0]*(f/p1[2][0])\n",
    "\n",
    "q1 = np.array([[q1x, q1y, f]]).T\n",
    "\n",
    "print('q1 = \\n'+str(q1))\n",
    "\n",
    "q2x = p2[0][0]*(f/p2[2][0])\n",
    "q2y = p2[1][0]*(f/p2[2][0])\n",
    "\n",
    "q2 = np.array([[q2x, q2y, f]]).T\n",
    "\n",
    "print('q2 = \\n'+str(q2))"
   ]
  },
  {
   "cell_type": "markdown",
   "metadata": {},
   "source": [
    "---\n",
    "### D)"
   ]
  },
  {
   "cell_type": "code",
   "execution_count": 5,
   "metadata": {},
   "outputs": [
    {
     "name": "stdout",
     "output_type": "stream",
     "text": [
      "sx = 1066666.6666666667\n",
      "sy = 1000000.0\n",
      "u0 = 320.0\n",
      "v0 = 240.0\n",
      "q1_hat = \n",
      "[[330.]\n",
      " [236.]\n",
      " [  1.]]\n",
      "q2_hat = \n",
      "[[159.]\n",
      " [588.]\n",
      " [  1.]]\n"
     ]
    }
   ],
   "source": [
    "M = 640\n",
    "N = 480\n",
    "Lx = 0.0006\n",
    "Ly = 0.00048\n",
    "\n",
    "sx = M/Lx\n",
    "sy = N/Ly\n",
    "u0 = np.floor(M/2)\n",
    "v0 = np.floor(N/2)\n",
    "\n",
    "print('sx = '+str(sx))\n",
    "print('sy = '+str(sy))\n",
    "print('u0 = '+str(u0))\n",
    "print('v0 = '+str(v0))\n",
    "\n",
    "A = np.array([[f*sx, 0, u0], [0, f*sy, v0], [0, 0, 1]])\n",
    "\n",
    "q1_hat = np.floor(1/f*(np.matmul(A,q1)))\n",
    "\n",
    "print('q1_hat = \\n'+str(q1_hat))\n",
    "\n",
    "q2_hat = np.floor(1/f*(np.matmul(A,q2)))\n",
    "\n",
    "print('q2_hat = \\n'+str(q2_hat))"
   ]
  },
  {
   "cell_type": "markdown",
   "metadata": {},
   "source": [
    "---\n",
    "### E)"
   ]
  },
  {
   "cell_type": "code",
   "execution_count": 6,
   "metadata": {},
   "outputs": [
    {
     "name": "stdout",
     "output_type": "stream",
     "text": [
      "p1_rec.T = \n",
      "[[ 2.8125e-02 -1.2000e-02  3.0000e+01]]\n",
      "p2_rec.T = \n",
      "[[-0.44795278  1.03279548 29.67803096]]\n",
      "mean_reprojection_error = 0.002077483487965252\n"
     ]
    }
   ],
   "source": [
    "A_inv = np.linalg.inv(A)\n",
    "\n",
    "p1_rec = np.matmul(A_inv,q1_hat)*p1[2][0]\n",
    "\n",
    "p2_rec = np.matmul(A_inv,q2_hat)*p2[2][0]\n",
    "\n",
    "print('p1_rec.T = \\n'+str(p1_rec.T))\n",
    "\n",
    "print('p2_rec.T = \\n'+str(p2_rec.T))\n",
    "\n",
    "mean_reprojection_error = 0.5*(np.linalg.norm(p1 - p1_rec)+np.linalg.norm(p2 - p2_rec))\n",
    "\n",
    "print('mean_reprojection_error = '+str(mean_reprojection_error))\n",
    "\n",
    "error_p1 = np.linalg.norm(p1 - p1_rec)\n",
    "error_p2 = np.linalg.norm(p2 - p2_rec)\n",
    "\n",
    "# Therefore, the uncertainty is +/- 0.5 pixel, then:\n",
    "error_p1_theoric = np.matmul(A_inv,np.array([[0.5, 0.5, 0]]).T)*p1[2][0]\n",
    "error_p2_theoric = np.matmul(A_inv,np.array([[0.5, 0.5, 0]]).T)*p2[2][0]"
   ]
  },
  {
   "cell_type": "code",
   "execution_count": 7,
   "metadata": {},
   "outputs": [
    {
     "name": "stdout",
     "output_type": "stream",
     "text": [
      "    p1.T = [[ 3.e-02 -1.e-02  3.e+01]]\n",
      "p1_rec.T = [[ 2.8125e-02 -1.2000e-02  3.0000e+01]]\n",
      "\n",
      "error_p1 = 0.0027414640249326687\n",
      "\n",
      " error_p1_theoric = \n",
      "[[0.00140625]\n",
      " [0.0015    ]\n",
      " [0.        ]]\n",
      "\n",
      "    p2.T = [[-0.44677296  1.03357395 29.67803096]]\n",
      "p2_rec.T = [[-0.44795278  1.03279548 29.67803096]]\n",
      "\n",
      "error_p2 = 0.0014135029509978352\n",
      "\n",
      "error_p2_theoric = \n",
      "[[0.00139116]\n",
      " [0.0014839 ]\n",
      " [0.        ]]\n",
      "\n",
      "Mean Reprojection Error  = 0.0021\n",
      "\n",
      "Uncertain norm = 0.0021\n"
     ]
    }
   ],
   "source": [
    "print('    p1.T = '+str(p1.T))\n",
    "\n",
    "print('p1_rec.T = '+str(p1_rec.T))\n",
    "\n",
    "print('\\nerror_p1 = '+str(error_p1))\n",
    "\n",
    "print('\\n error_p1_theoric = \\n'+str(error_p1_theoric))\n",
    "\n",
    "print('\\n    p2.T = '+str(p2.T))\n",
    "\n",
    "print('p2_rec.T = '+str(p2_rec.T))\n",
    "\n",
    "print('\\nerror_p2 = '+str(error_p2))\n",
    "\n",
    "print('\\nerror_p2_theoric = \\n'+str(error_p2_theoric))\n",
    "\n",
    "print('\\nMean Reprojection Error  = '+str(\"{:.4f}\".format(mean_reprojection_error)))\n",
    "\n",
    "print('\\nUncertain norm = '+str(\"{:.4f}\".format(np.linalg.norm(error_p1_theoric))))"
   ]
  }
 ],
 "metadata": {
  "kernelspec": {
   "display_name": "Python 3",
   "language": "python",
   "name": "python3"
  },
  "language_info": {
   "codemirror_mode": {
    "name": "ipython",
    "version": 3
   },
   "file_extension": ".py",
   "mimetype": "text/x-python",
   "name": "python",
   "nbconvert_exporter": "python",
   "pygments_lexer": "ipython3",
   "version": "3.10.12"
  }
 },
 "nbformat": 4,
 "nbformat_minor": 2
}
