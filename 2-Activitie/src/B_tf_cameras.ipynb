{
 "cells": [
  {
   "cell_type": "markdown",
   "metadata": {},
   "source": [
    "### B)"
   ]
  },
  {
   "cell_type": "code",
   "execution_count": 60,
   "metadata": {},
   "outputs": [],
   "source": [
    "# toffanetto\n",
    "\n",
    "import numpy as np\n",
    "import matplotlib.pyplot as plt\n",
    "\n"
   ]
  },
  {
   "cell_type": "code",
   "execution_count": 61,
   "metadata": {},
   "outputs": [],
   "source": [
    "class tf:\n",
    "    def __init__(self, x, y, z, phi, theta, psi):\n",
    "        self.x = x\n",
    "        self.y = y\n",
    "        self.z = z \n",
    "        self.phi = np.deg2rad(phi)\n",
    "        self.theta = np.deg2rad(theta)\n",
    "        self.psi = np.deg2rad(psi)\n",
    "        \n",
    "        self.t = np.array([[x, y ,z]]).T\n",
    "        \n",
    "    def getPoint(self,p1):\n",
    "        Rx = np.array([[1, 0, 0], [0, np.cos(self.psi), np.sin(self.psi)], [0, -np.sin(self.psi), np.cos(self.psi)]])\n",
    "        Ry = np.array([[np.cos(self.theta), 0, -np.sin(self.theta)], [0, 1, 0], [np.sin(self.theta), 0, np.cos(self.theta)]])\n",
    "        Rz = np.array([[np.cos(self.phi), np.sin(self.phi), 0], [-np.sin(self.phi), np.cos(self.phi), 0], [0, 0, 1]])\n",
    "        R = np.matmul(Rz,np.matmul(Ry,Rx))\n",
    "        \n",
    "        p2 = np.matmul(R,p1) + self.t\n",
    "        return p2\n",
    "\n"
   ]
  },
  {
   "cell_type": "code",
   "execution_count": 62,
   "metadata": {},
   "outputs": [
    {
     "name": "stdout",
     "output_type": "stream",
     "text": [
      "p2 = \n",
      "[[ 2.02157298]\n",
      " [ 4.06908819]\n",
      " [17.94537989]]\n"
     ]
    }
   ],
   "source": [
    "p1 = np.array([[1, 2 ,3]]).T\n",
    "\n",
    "p1_to_p2_TF = tf(x=1, y=2, z=15, phi=2, theta=1, psi=2)\n",
    "\n",
    "p2 = p1_to_p2_TF.getPoint(p1=p1)\n",
    "print('p2 = \\n'+str(p2))"
   ]
  },
  {
   "cell_type": "markdown",
   "metadata": {},
   "source": [
    "---\n",
    "### C)"
   ]
  },
  {
   "cell_type": "code",
   "execution_count": 63,
   "metadata": {},
   "outputs": [
    {
     "name": "stdout",
     "output_type": "stream",
     "text": [
      "q1 = \n",
      "[[0.01666667]\n",
      " [0.03333333]\n",
      " [0.05      ]]\n",
      "q2 = \n",
      "[[0.00563257]\n",
      " [0.01133743]\n",
      " [0.05      ]]\n"
     ]
    }
   ],
   "source": [
    "f = 0.05\n",
    "\n",
    "q1x = p1[0][0]*(f/p1[2][0])\n",
    "q1y = p1[1][0]*(f/p1[2][0])\n",
    "\n",
    "q1 = np.array([[q1x, q1y, f]]).T\n",
    "\n",
    "print('q1 = \\n'+str(q1))\n",
    "\n",
    "q2x = p2[0][0]*(f/p2[2][0])\n",
    "q2y = p2[1][0]*(f/p2[2][0])\n",
    "\n",
    "q2 = np.array([[q2x, q2y, f]]).T\n",
    "\n",
    "print('q2 = \\n'+str(q2))"
   ]
  },
  {
   "cell_type": "markdown",
   "metadata": {},
   "source": [
    "---\n",
    "### D)"
   ]
  },
  {
   "cell_type": "code",
   "execution_count": 64,
   "metadata": {},
   "outputs": [
    {
     "name": "stdout",
     "output_type": "stream",
     "text": [
      "q1_hat = \n",
      "[[27.]\n",
      " [69.]\n",
      " [ 1.]]\n",
      "q2_hat = \n",
      "[[ 9.]\n",
      " [23.]\n",
      " [ 1.]]\n"
     ]
    }
   ],
   "source": [
    "sx = 640/(0.0006*640) # ???\n",
    "sy = 480/(0.00048*480) # ???\n",
    "u0 = 0\n",
    "v0 = 0\n",
    "\n",
    "A = np.array([[f*sx, 0, u0], [0, f*sy, v0], [0, 0, 1]])\n",
    "\n",
    "q1_hat = np.floor(1/f*(np.matmul(A,q1)))\n",
    "\n",
    "print('q1_hat = \\n'+str(q1_hat))\n",
    "\n",
    "q2_hat = np.floor(1/f*(np.matmul(A,q2)))\n",
    "\n",
    "print('q2_hat = \\n'+str(q2_hat))"
   ]
  },
  {
   "cell_type": "markdown",
   "metadata": {},
   "source": [
    "---\n",
    "### E)"
   ]
  },
  {
   "cell_type": "code",
   "execution_count": 65,
   "metadata": {},
   "outputs": [
    {
     "name": "stdout",
     "output_type": "stream",
     "text": [
      "p1_rec = \n",
      "[[0.972 ]\n",
      " [1.9872]\n",
      " [3.    ]]\n",
      "p2_rec = \n",
      "[[ 1.93810103]\n",
      " [ 3.96233988]\n",
      " [17.94537989]]\n"
     ]
    }
   ],
   "source": [
    "A_inv = np.linalg.inv(A)\n",
    "\n",
    "p1_rec = np.matmul(A_inv,q1_hat)*p1[2][0]\n",
    "\n",
    "p2_rec = np.matmul(A_inv,q2_hat)*p2[2][0]\n",
    "\n",
    "print('p1_rec = \\n'+str(p1_rec))\n",
    "\n",
    "print('p2_rec = \\n'+str(p2_rec))\n",
    "\n",
    "error_p1_x = abs(p1[0][0]-p1_rec[0][0])/p1[0][0]*100\n",
    "error_p1_y = abs(p1[1][0]-p1_rec[1][0])/p1[1][0]*100\n",
    "\n",
    "error_p2_x = abs(p2[0][0]-p2_rec[0][0])/p2[0][0]*100\n",
    "error_p2_y = abs(p2[1][0]-p2_rec[1][0])/p2[1][0]*100"
   ]
  },
  {
   "cell_type": "code",
   "execution_count": 66,
   "metadata": {},
   "outputs": [
    {
     "name": "stdout",
     "output_type": "stream",
     "text": [
      "    p1.T = [[1 2 3]]\n",
      "p1_rec.T = [[0.972  1.9872 3.    ]]\n",
      "\n",
      "error_p1_x = 2.8000000000000247\n",
      "error_p1_y = 0.6400000000000183\n",
      "\n",
      "    p2.T = [[ 2.02157298  4.06908819 17.94537989]]\n",
      "p2_rec.T = [[ 1.93810103  3.96233988 17.94537989]]\n",
      "\n",
      "error_p1_x = 4.129059641888114\n",
      "error_p1_y = 2.623396430714245\n"
     ]
    }
   ],
   "source": [
    "print('    p1.T = '+str(p1.T))\n",
    "\n",
    "print('p1_rec.T = '+str(p1_rec.T))\n",
    "\n",
    "print()\n",
    "\n",
    "print('error_p1_x = '+str(error_p1_x))\n",
    "print('error_p1_y = '+str(error_p1_y))\n",
    "\n",
    "print()\n",
    "\n",
    "print('    p2.T = '+str(p2.T))\n",
    "\n",
    "print('p2_rec.T = '+str(p2_rec.T))\n",
    "\n",
    "print()\n",
    "\n",
    "print('error_p1_x = '+str(error_p2_x))\n",
    "print('error_p1_y = '+str(error_p2_y))"
   ]
  }
 ],
 "metadata": {
  "kernelspec": {
   "display_name": "Python 3",
   "language": "python",
   "name": "python3"
  },
  "language_info": {
   "codemirror_mode": {
    "name": "ipython",
    "version": 3
   },
   "file_extension": ".py",
   "mimetype": "text/x-python",
   "name": "python",
   "nbconvert_exporter": "python",
   "pygments_lexer": "ipython3",
   "version": "3.10.12"
  }
 },
 "nbformat": 4,
 "nbformat_minor": 2
}
